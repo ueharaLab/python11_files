{
 "cells": [
  {
   "cell_type": "markdown",
   "id": "e7fe397c",
   "metadata": {},
   "source": [
    "# open とreadの関係"
   ]
  },
  {
   "cell_type": "markdown",
   "id": "1417dc07",
   "metadata": {},
   "source": [
    "### read() テキスト全部をいっぺんに読む"
   ]
  },
  {
   "cell_type": "code",
   "execution_count": 1,
   "id": "da121b50",
   "metadata": {},
   "outputs": [
    {
     "name": "stdout",
     "output_type": "stream",
     "text": [
      "令和4年12月5日現在の状況\n",
      "熊谷市居住の陽性者数（参考数値) 　166人\n",
      "県発表件数の内訳ではありませんのでご注意ください。県が、HER-SYSに届出のあった数および電子申請で登録のあった数を集計した参考数値です。\n",
      "　\n",
      "\n",
      "累計（参考数値）　31,827人\n",
      "令和4年9月28日からは参考数値を累計しているため、実態とは異なります。\n",
      "\n",
      "\n"
     ]
    }
   ],
   "source": [
    "f = open('test_text.txt',encoding=\"utf-8\")\n",
    "data1 = f.read()\n",
    "f.close()\n",
    "print(data1)"
   ]
  },
  {
   "cell_type": "markdown",
   "id": "1466b488",
   "metadata": {},
   "source": [
    "### closeしないでreadを繰り返すと。。"
   ]
  },
  {
   "cell_type": "code",
   "execution_count": 2,
   "id": "073634ca",
   "metadata": {},
   "outputs": [
    {
     "name": "stdout",
     "output_type": "stream",
     "text": [
      "令和4年12月5日現在の状況\n",
      "熊谷市居住の陽性者数（参考数値) 　166人\n",
      "県発表件数の内訳ではありませんのでご注意ください。県が、HER-SYSに届出のあった数および電子申請で登録のあった数を集計した参考数値です。\n",
      "　\n",
      "\n",
      "累計（参考数値）　31,827人\n",
      "令和4年9月28日からは参考数値を累計しているため、実態とは異なります。\n",
      "\n",
      "\n",
      "\n"
     ]
    }
   ],
   "source": [
    "f = open('test_text.txt',encoding=\"utf-8\")\n",
    "data1 = f.read()\n",
    "print(data1)\n",
    "\n",
    "data1 = f.read() #テキストの最終位置にインデックスが来ているから\n",
    "print(data1)"
   ]
  },
  {
   "cell_type": "markdown",
   "id": "bdea9ca8",
   "metadata": {},
   "source": [
    "### readlines() テキスト全部をいっぺんに読むが、行単位でリストになる"
   ]
  },
  {
   "cell_type": "code",
   "execution_count": 9,
   "id": "6e2ba59c",
   "metadata": {},
   "outputs": [
    {
     "name": "stdout",
     "output_type": "stream",
     "text": [
      "['令和4年12月5日現在の状況\\n', '熊谷市居住の陽性者数（参考数値) \\u3000166人\\n', '県発表件数の内訳ではありませんのでご注意ください。県が、HER-SYSに届出のあった数および電子申請で登録のあった数を集計した参考数値です。\\n', '\\u3000\\n', '\\n', '累計（参考数値）\\u300031,827人\\n', '令和4年9月28日からは参考数値を累計しているため、実態とは異なります。\\n', '\\n']\n"
     ]
    }
   ],
   "source": [
    "f = open('test_text.txt',encoding=\"utf-8\")\n",
    "data1= f.readlines()\n",
    "f.close()\n",
    "print(data1)"
   ]
  },
  {
   "cell_type": "code",
   "execution_count": 10,
   "id": "c6af1157",
   "metadata": {},
   "outputs": [
    {
     "name": "stdout",
     "output_type": "stream",
     "text": [
      "令和4年12月5日現在の状況\n",
      "\n",
      "熊谷市居住の陽性者数（参考数値) 　166人\n",
      "\n",
      "県発表件数の内訳ではありませんのでご注意ください。県が、HER-SYSに届出のあった数および電子申請で登録のあった数を集計した参考数値です。\n",
      "\n",
      "　\n",
      "\n",
      "\n",
      "\n",
      "累計（参考数値）　31,827人\n",
      "\n",
      "令和4年9月28日からは参考数値を累計しているため、実態とは異なります。\n",
      "\n",
      "\n",
      "\n"
     ]
    }
   ],
   "source": [
    "for line in data1:\n",
    "    print(line)"
   ]
  },
  {
   "cell_type": "code",
   "execution_count": 3,
   "id": "76191fd1",
   "metadata": {},
   "outputs": [
    {
     "name": "stdout",
     "output_type": "stream",
     "text": [
      "['令和4年12月5日現在の状況\\n', '熊谷市居住の陽性者数（参考数値) \\u3000166人\\n', '県発表件数の内訳ではありませんのでご注意ください。県が、HER-SYSに届出のあった数および電子申請で登録のあった数を集計した参考数値です。\\n', '\\u3000\\n', '\\n', '累計（参考数値）\\u300031,827人\\n', '令和4年9月28日からは参考数値を累計しているため、実態とは異なります。\\n', '\\n']\n",
      "['令和4年12月5日現在の状況\\n', '熊谷市居住の陽性者数（参考数値) \\u3000166人\\n', '県発表件数の内訳ではありませんのでご注意ください。県が、HER-SYSに届出のあった数および電子申請で登録のあった数を集計した参考数値です。\\n', '\\u3000\\n', '\\n', '累計（参考数値）\\u300031,827人\\n', '令和4年9月28日からは参考数値を累計しているため、実態とは異なります。\\n', '\\n']\n"
     ]
    }
   ],
   "source": [
    "f = open('test_text.txt',encoding=\"utf-8\")\n",
    "data1= f.readlines()\n",
    "print(data1)\n",
    "f.close()\n",
    "f = open('test_text.txt',encoding=\"utf-8\")\n",
    "data1= f.readlines()\n",
    "print(data1)"
   ]
  },
  {
   "cell_type": "markdown",
   "id": "667563ce",
   "metadata": {},
   "source": [
    "### readline() テキストを1行づつ読む"
   ]
  },
  {
   "cell_type": "code",
   "execution_count": 15,
   "id": "730a217d",
   "metadata": {},
   "outputs": [
    {
     "name": "stdout",
     "output_type": "stream",
     "text": [
      "令和4年12月5日現在の状況\n",
      "\n"
     ]
    }
   ],
   "source": [
    "f = open('test_text.txt',encoding=\"utf-8\")\n",
    "data1= f.readline()\n",
    "f.close()\n",
    "print(data1)"
   ]
  },
  {
   "cell_type": "markdown",
   "id": "3bd35062",
   "metadata": {},
   "source": [
    "### read()のケースと同様にcloseしないでreadを繰り返すと何が起きるだろうか？"
   ]
  },
  {
   "cell_type": "code",
   "execution_count": 18,
   "id": "b0cf35a4",
   "metadata": {},
   "outputs": [
    {
     "name": "stdout",
     "output_type": "stream",
     "text": [
      "令和4年12月5日現在の状況\n",
      "\n",
      "熊谷市居住の陽性者数（参考数値) 　166人\n",
      "\n"
     ]
    }
   ],
   "source": [
    "f = open('test_text.txt',encoding=\"utf-8\")\n",
    "data1= f.readline()\n",
    "print(data1)\n",
    "data1=f.readline()\n",
    "print(data1)\n",
    "f.close()\n"
   ]
  },
  {
   "cell_type": "code",
   "execution_count": null,
   "id": "e23a3543",
   "metadata": {},
   "outputs": [],
   "source": []
  }
 ],
 "metadata": {
  "kernelspec": {
   "display_name": "Python 3 (ipykernel)",
   "language": "python",
   "name": "python3"
  },
  "language_info": {
   "codemirror_mode": {
    "name": "ipython",
    "version": 3
   },
   "file_extension": ".py",
   "mimetype": "text/x-python",
   "name": "python",
   "nbconvert_exporter": "python",
   "pygments_lexer": "ipython3",
   "version": "3.9.12"
  }
 },
 "nbformat": 4,
 "nbformat_minor": 5
}
